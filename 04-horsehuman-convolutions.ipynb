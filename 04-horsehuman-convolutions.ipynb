{
 "cells": [
  {
   "cell_type": "code",
   "execution_count": 2,
   "metadata": {},
   "outputs": [
    {
     "name": "stderr",
     "output_type": "stream",
     "text": [
      "2024-08-21 13:08:18.641883: I tensorflow/core/platform/cpu_feature_guard.cc:193] This TensorFlow binary is optimized with oneAPI Deep Neural Network Library (oneDNN) to use the following CPU instructions in performance-critical operations:  SSE4.1 SSE4.2\n",
      "To enable them in other operations, rebuild TensorFlow with the appropriate compiler flags.\n"
     ]
    }
   ],
   "source": [
    "from tensorflow import keras\n",
    "\n",
    "from keras import Sequential\n",
    "from keras.layers import Dense, Flatten, Conv2D, MaxPooling2D\n",
    "\n",
    "from keras.preprocessing.image import ImageDataGenerator"
   ]
  },
  {
   "cell_type": "code",
   "execution_count": 6,
   "metadata": {},
   "outputs": [],
   "source": [
    "training_dir = 'data/horse-or-human/training'\n",
    "validation_dir = 'data/horse-or-human/validation'\n",
    "\n",
    "training_zip_file_name = 'horse-or-human.zip'\n",
    "validation_zip_file_name = 'validation-horse-or-human.zip'"
   ]
  },
  {
   "cell_type": "code",
   "execution_count": 7,
   "metadata": {},
   "outputs": [
    {
     "data": {
      "text/plain": [
       "('horse-or-human.zip', <http.client.HTTPMessage at 0x7f7ce005a6b0>)"
      ]
     },
     "execution_count": 7,
     "metadata": {},
     "output_type": "execute_result"
    }
   ],
   "source": [
    "# Dowload the training dataset\n",
    "import urllib.request\n",
    "\n",
    "url = 'https://storage.googleapis.com/learning-datasets/horse-or-human.zip'\n",
    "\n",
    "urllib.request.urlretrieve(url, training_zip_file_name)"
   ]
  },
  {
   "cell_type": "code",
   "execution_count": 8,
   "metadata": {},
   "outputs": [
    {
     "data": {
      "text/plain": [
       "('validation-horse-or-human.zip', <http.client.HTTPMessage at 0x7f7ce005ac20>)"
      ]
     },
     "execution_count": 8,
     "metadata": {},
     "output_type": "execute_result"
    }
   ],
   "source": [
    "# Dowload the validation dataset\n",
    "import urllib.request\n",
    "\n",
    "url = 'https://storage.googleapis.com/learning-datasets/validation-horse-or-human.zip'\n",
    "\n",
    "urllib.request.urlretrieve(url, validation_zip_file_name)"
   ]
  },
  {
   "cell_type": "code",
   "execution_count": 9,
   "metadata": {},
   "outputs": [],
   "source": [
    "# Extract the datasets\n",
    "\n",
    "import zipfile\n",
    "\n",
    "zip_ref = zipfile.ZipFile(training_zip_file_name, 'r')\n",
    "zip_ref.extractall(training_dir)\n",
    "zip_ref.close()\n",
    "\n",
    "zip_ref = zipfile.ZipFile(validation_zip_file_name, 'r')\n",
    "zip_ref.extractall(validation_dir)\n",
    "zip_ref.close()"
   ]
  },
  {
   "cell_type": "code",
   "execution_count": 9,
   "metadata": {},
   "outputs": [
    {
     "name": "stdout",
     "output_type": "stream",
     "text": [
      "Found 1027 images belonging to 2 classes.\n"
     ]
    }
   ],
   "source": [
    "# The model was initially trained with the original images only\n",
    "# train_datagen = ImageDataGenerator(rescale=1./255)\n",
    "\n",
    "# Now we are going to use data augmentation\n",
    "train_datagen = ImageDataGenerator(\n",
    "    rescale=1./255,\n",
    "    rotation_range=40,\n",
    "    width_shift_range=0.2,\n",
    "    height_shift_range=0.2,\n",
    "    shear_range=0.2,\n",
    "    zoom_range=0.2,\n",
    "    horizontal_flip=True,\n",
    "    fill_mode='nearest'\n",
    ")\n",
    "\n",
    "train_generator = train_datagen.flow_from_directory(\n",
    "    training_dir,\n",
    "    target_size=(300, 300),\n",
    "    batch_size=128,\n",
    "    class_mode='binary'\n",
    ")"
   ]
  },
  {
   "cell_type": "code",
   "execution_count": 10,
   "metadata": {},
   "outputs": [
    {
     "name": "stdout",
     "output_type": "stream",
     "text": [
      "Found 1027 images belonging to 2 classes.\n"
     ]
    }
   ],
   "source": [
    "# The model was initially trained with the original images only\n",
    "# validation_datagen = ImageDataGenerator(rescale=1./255)\n",
    "\n",
    "# Now we are going to use data augmentation\n",
    "validation_datagen = ImageDataGenerator(\n",
    "    rescale=1./255,\n",
    "    rotation_range=40,\n",
    "    width_shift_range=0.2,\n",
    "    height_shift_range=0.2,\n",
    "    shear_range=0.2,\n",
    "    zoom_range=0.2,\n",
    "    horizontal_flip=True,\n",
    "    fill_mode='nearest'\n",
    ")\n",
    "\n",
    "validation_generator = validation_datagen.flow_from_directory(\n",
    "    validation_dir,\n",
    "    target_size=(300, 300),\n",
    "    batch_size=128,\n",
    "    class_mode='binary'\n",
    ")"
   ]
  },
  {
   "cell_type": "code",
   "execution_count": 11,
   "metadata": {},
   "outputs": [
    {
     "name": "stderr",
     "output_type": "stream",
     "text": [
      "/var/folders/yq/6hjjmqgj63s0mxztlhxls6r80000gn/T/ipykernel_25002/3130646520.py:21: UserWarning: `Model.fit_generator` is deprecated and will be removed in a future version. Please use `Model.fit`, which supports generators.\n",
      "  history = model.fit_generator(\n"
     ]
    },
    {
     "name": "stdout",
     "output_type": "stream",
     "text": [
      "Epoch 1/15\n",
      "9/9 [==============================] - 63s 7s/step - loss: 0.6899 - accuracy: 0.5550 - val_loss: 0.6476 - val_accuracy: 0.7235\n",
      "Epoch 2/15\n",
      "9/9 [==============================] - 63s 7s/step - loss: 0.6144 - accuracy: 0.6728 - val_loss: 0.5639 - val_accuracy: 0.6787\n",
      "Epoch 3/15\n",
      "9/9 [==============================] - 62s 7s/step - loss: 0.5580 - accuracy: 0.7205 - val_loss: 0.5969 - val_accuracy: 0.6349\n",
      "Epoch 4/15\n",
      "9/9 [==============================] - 61s 7s/step - loss: 0.5550 - accuracy: 0.7235 - val_loss: 0.5543 - val_accuracy: 0.7575\n",
      "Epoch 5/15\n",
      "9/9 [==============================] - 66s 8s/step - loss: 0.4944 - accuracy: 0.7653 - val_loss: 0.4691 - val_accuracy: 0.7663\n",
      "Epoch 6/15\n",
      "9/9 [==============================] - 75s 8s/step - loss: 0.4900 - accuracy: 0.7653 - val_loss: 0.4652 - val_accuracy: 0.7926\n",
      "Epoch 7/15\n",
      "9/9 [==============================] - 69s 8s/step - loss: 0.4753 - accuracy: 0.7605 - val_loss: 0.4629 - val_accuracy: 0.7439\n",
      "Epoch 8/15\n",
      "9/9 [==============================] - 82s 9s/step - loss: 0.4828 - accuracy: 0.7439 - val_loss: 0.4197 - val_accuracy: 0.8033\n",
      "Epoch 9/15\n",
      "9/9 [==============================] - 80s 9s/step - loss: 0.4098 - accuracy: 0.8082 - val_loss: 0.3664 - val_accuracy: 0.8374\n",
      "Epoch 10/15\n",
      "9/9 [==============================] - 64s 7s/step - loss: 0.3066 - accuracy: 0.8617 - val_loss: 0.3922 - val_accuracy: 0.8296\n",
      "Epoch 11/15\n",
      "9/9 [==============================] - 65s 7s/step - loss: 0.3621 - accuracy: 0.8277 - val_loss: 0.2663 - val_accuracy: 0.8948\n",
      "Epoch 12/15\n",
      "9/9 [==============================] - 69s 8s/step - loss: 0.3103 - accuracy: 0.8549 - val_loss: 0.2102 - val_accuracy: 0.9241\n",
      "Epoch 13/15\n",
      "9/9 [==============================] - 65s 7s/step - loss: 0.2387 - accuracy: 0.9026 - val_loss: 0.1987 - val_accuracy: 0.9260\n",
      "Epoch 14/15\n",
      "9/9 [==============================] - 70s 8s/step - loss: 0.2206 - accuracy: 0.9065 - val_loss: 0.2589 - val_accuracy: 0.8968\n",
      "Epoch 15/15\n",
      "9/9 [==============================] - 78s 9s/step - loss: 0.2095 - accuracy: 0.9133 - val_loss: 0.2135 - val_accuracy: 0.9250\n"
     ]
    }
   ],
   "source": [
    "model = Sequential([\n",
    "    Conv2D(16, (3, 3), activation='relu', input_shape=(300, 300, 3)),\n",
    "    MaxPooling2D(2, 2),\n",
    "    Conv2D(32, (3, 3), activation='relu'),\n",
    "    MaxPooling2D(2, 2),\n",
    "    Conv2D(64, (3, 3), activation='relu'),\n",
    "    MaxPooling2D(2, 2),\n",
    "    Conv2D(64, (3, 3), activation='relu'),\n",
    "    MaxPooling2D(2, 2),\n",
    "    Conv2D(64, (3, 3), activation='relu'),\n",
    "    MaxPooling2D(2, 2),\n",
    "    Flatten(),\n",
    "    Dense(512, activation='relu'),\n",
    "    Dense(1, activation='sigmoid')\n",
    "])\n",
    "\n",
    "model.compile(loss='binary_crossentropy',\n",
    "              optimizer='adam',\n",
    "              metrics=['accuracy'])\n",
    "\n",
    "history = model.fit_generator(\n",
    "    train_generator,\n",
    "    epochs=15,  \n",
    "    validation_data=validation_generator,\n",
    "    verbose=1\n",
    ")\n",
    "\n"
   ]
  },
  {
   "cell_type": "code",
   "execution_count": 12,
   "metadata": {},
   "outputs": [
    {
     "data": {
      "image/png": "[encoded data removed]",
      "text/plain": [
       "<Figure size 640x480 with 1 Axes>"
      ]
     },
     "metadata": {},
     "output_type": "display_data"
    },
    {
     "data": {
      "image/png": "[encoded data removed]",
      "text/plain": [
       "<Figure size 640x480 with 1 Axes>"
      ]
     },
     "metadata": {},
     "output_type": "display_data"
    }
   ],
   "source": [
    "import matplotlib.pyplot as plt\n",
    "\n",
    "acc = history.history['accuracy']\n",
    "loss = history.history['loss']\n",
    "\n",
    "epochs = range(len(acc))\n",
    "\n",
    "plt.plot(epochs, acc, 'r', label='Training accuracy')\n",
    "plt.title('Training accuracy')\n",
    "\n",
    "plt.figure()\n",
    "\n",
    "plt.plot(epochs, loss, 'r', label='Training Loss')\n",
    "plt.title('Training loss')\n",
    "plt.legend()\n",
    "\n",
    "plt.show()\n"
   ]
  },
  {
   "cell_type": "code",
   "execution_count": null,
   "metadata": {},
   "outputs": [],
   "source": []
  }
 ],
 "metadata": {
  "kernelspec": {
   "display_name": "Python 3",
   "language": "python",
   "name": "python3"
  },
  "language_info": {
   "codemirror_mode": {
    "name": "ipython",
    "version": 3
   },
   "file_extension": ".py",
   "mimetype": "text/x-python",
   "name": "python",
   "nbconvert_exporter": "python",
   "pygments_lexer": "ipython3",
   "version": "3.10.9"
  },
  "orig_nbformat": 4
 },
 "nbformat": 4,
 "nbformat_minor": 2
}
