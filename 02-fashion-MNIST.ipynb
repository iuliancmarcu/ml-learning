{
 "cells": [
  {
   "cell_type": "code",
   "execution_count": 5,
   "metadata": {},
   "outputs": [],
   "source": [
    "from tensorflow import keras\n",
    "\n",
    "from keras import Sequential\n",
    "from keras.layers import Dense, Flatten"
   ]
  },
  {
   "cell_type": "code",
   "execution_count": 6,
   "metadata": {},
   "outputs": [
    {
     "name": "stdout",
     "output_type": "stream",
     "text": [
      "Downloading data from https://storage.googleapis.com/tensorflow/tf-keras-datasets/train-labels-idx1-ubyte.gz\n",
      "29515/29515 [==============================] - 0s 0us/step\n",
      "Downloading data from https://storage.googleapis.com/tensorflow/tf-keras-datasets/train-images-idx3-ubyte.gz\n",
      "26421880/26421880 [==============================] - 3s 0us/step\n",
      "Downloading data from https://storage.googleapis.com/tensorflow/tf-keras-datasets/t10k-labels-idx1-ubyte.gz\n",
      "5148/5148 [==============================] - 0s 0us/step\n",
      "Downloading data from https://storage.googleapis.com/tensorflow/tf-keras-datasets/t10k-images-idx3-ubyte.gz\n",
      "4422102/4422102 [==============================] - 1s 0us/step\n"
     ]
    }
   ],
   "source": [
    "data = keras.datasets.fashion_mnist\n",
    "\n",
    "(training_images, training_labels), (test_images, test_labels) = data.load_data()\n",
    "\n",
    "training_images = training_images / 255.0\n",
    "test_images = test_images / 255.0"
   ]
  },
  {
   "cell_type": "code",
   "execution_count": 16,
   "metadata": {},
   "outputs": [],
   "source": [
    "model = Sequential([\n",
    "    Flatten(input_shape=(28, 28)),\n",
    "    Dense(128, activation='relu'),\n",
    "    Dense(10, activation='softmax')\n",
    "])\n",
    "\n",
    "model.compile(optimizer='adam', loss='sparse_categorical_crossentropy', metrics=['accuracy'])"
   ]
  },
  {
   "cell_type": "code",
   "execution_count": 17,
   "metadata": {},
   "outputs": [],
   "source": [
    "class Accurracy95Callback(keras.callbacks.Callback):\n",
    "    def on_epoch_end(self, epoch, logs={}):\n",
    "        if(logs.get('accuracy') > 0.95):\n",
    "            print(\"Reached 95% accuracy so cancelling training!\")\n",
    "            self.model.stop_training = True"
   ]
  },
  {
   "cell_type": "code",
   "execution_count": 18,
   "metadata": {},
   "outputs": [
    {
     "name": "stdout",
     "output_type": "stream",
     "text": [
      "Epoch 1/50\n",
      "1875/1875 [==============================] - 2s 784us/step - loss: 0.4988 - accuracy: 0.8265\n",
      "Epoch 2/50\n",
      "1875/1875 [==============================] - 1s 712us/step - loss: 0.3743 - accuracy: 0.8655\n",
      "Epoch 3/50\n",
      "1875/1875 [==============================] - 1s 694us/step - loss: 0.3370 - accuracy: 0.8766\n",
      "Epoch 4/50\n",
      "1875/1875 [==============================] - 1s 697us/step - loss: 0.3097 - accuracy: 0.8866\n",
      "Epoch 5/50\n",
      "1875/1875 [==============================] - 1s 695us/step - loss: 0.2922 - accuracy: 0.8921\n",
      "Epoch 6/50\n",
      "1875/1875 [==============================] - 1s 699us/step - loss: 0.2780 - accuracy: 0.8973\n",
      "Epoch 7/50\n",
      "1875/1875 [==============================] - 2s 805us/step - loss: 0.2676 - accuracy: 0.9006\n",
      "Epoch 8/50\n",
      "1875/1875 [==============================] - 1s 729us/step - loss: 0.2549 - accuracy: 0.9056\n",
      "Epoch 9/50\n",
      "1875/1875 [==============================] - 2s 891us/step - loss: 0.2474 - accuracy: 0.9071\n",
      "Epoch 10/50\n",
      "1875/1875 [==============================] - 1s 710us/step - loss: 0.2372 - accuracy: 0.9113\n",
      "Epoch 11/50\n",
      "1875/1875 [==============================] - 1s 747us/step - loss: 0.2307 - accuracy: 0.9125\n",
      "Epoch 12/50\n",
      "1875/1875 [==============================] - 1s 713us/step - loss: 0.2240 - accuracy: 0.9163\n",
      "Epoch 13/50\n",
      "1875/1875 [==============================] - 1s 771us/step - loss: 0.2166 - accuracy: 0.9195\n",
      "Epoch 14/50\n",
      "1875/1875 [==============================] - 1s 701us/step - loss: 0.2103 - accuracy: 0.9211\n",
      "Epoch 15/50\n",
      "1875/1875 [==============================] - 1s 720us/step - loss: 0.2040 - accuracy: 0.9238\n",
      "Epoch 16/50\n",
      "1875/1875 [==============================] - 1s 702us/step - loss: 0.1992 - accuracy: 0.9239\n",
      "Epoch 17/50\n",
      "1875/1875 [==============================] - 1s 729us/step - loss: 0.1928 - accuracy: 0.9274\n",
      "Epoch 18/50\n",
      "1875/1875 [==============================] - 1s 769us/step - loss: 0.1881 - accuracy: 0.9284\n",
      "Epoch 19/50\n",
      "1875/1875 [==============================] - 1s 723us/step - loss: 0.1833 - accuracy: 0.9304\n",
      "Epoch 20/50\n",
      "1875/1875 [==============================] - 1s 702us/step - loss: 0.1796 - accuracy: 0.9333\n",
      "Epoch 21/50\n",
      "1875/1875 [==============================] - 1s 750us/step - loss: 0.1747 - accuracy: 0.9343\n",
      "Epoch 22/50\n",
      "1875/1875 [==============================] - 1s 698us/step - loss: 0.1697 - accuracy: 0.9362\n",
      "Epoch 23/50\n",
      "1875/1875 [==============================] - 1s 713us/step - loss: 0.1672 - accuracy: 0.9377\n",
      "Epoch 24/50\n",
      "1875/1875 [==============================] - 1s 745us/step - loss: 0.1638 - accuracy: 0.9388\n",
      "Epoch 25/50\n",
      "1875/1875 [==============================] - 1s 700us/step - loss: 0.1594 - accuracy: 0.9396\n",
      "Epoch 26/50\n",
      "1875/1875 [==============================] - 1s 708us/step - loss: 0.1550 - accuracy: 0.9419\n",
      "Epoch 27/50\n",
      "1875/1875 [==============================] - 1s 704us/step - loss: 0.1541 - accuracy: 0.9422\n",
      "Epoch 28/50\n",
      "1875/1875 [==============================] - 1s 712us/step - loss: 0.1480 - accuracy: 0.9440\n",
      "Epoch 29/50\n",
      "1875/1875 [==============================] - 1s 694us/step - loss: 0.1466 - accuracy: 0.9449\n",
      "Epoch 30/50\n",
      "1875/1875 [==============================] - 1s 691us/step - loss: 0.1437 - accuracy: 0.9459\n",
      "Epoch 31/50\n",
      "1875/1875 [==============================] - 1s 696us/step - loss: 0.1402 - accuracy: 0.9475\n",
      "Epoch 32/50\n",
      "1875/1875 [==============================] - 1s 726us/step - loss: 0.1378 - accuracy: 0.9475\n",
      "Epoch 33/50\n",
      "1875/1875 [==============================] - 1s 794us/step - loss: 0.1369 - accuracy: 0.9476\n",
      "Epoch 34/50\n",
      "1817/1875 [============================>.] - ETA: 0s - loss: 0.1319 - accuracy: 0.9511Reached 95% accuracy so cancelling training!\n",
      "1875/1875 [==============================] - 1s 724us/step - loss: 0.1320 - accuracy: 0.9510\n"
     ]
    },
    {
     "data": {
      "text/plain": [
       "<keras.callbacks.History at 0x7fcdd07bfc40>"
      ]
     },
     "execution_count": 18,
     "metadata": {},
     "output_type": "execute_result"
    }
   ],
   "source": [
    "model.fit(training_images, training_labels, epochs=50, callbacks=[Accurracy95Callback()])"
   ]
  },
  {
   "cell_type": "code",
   "execution_count": 19,
   "metadata": {},
   "outputs": [
    {
     "name": "stdout",
     "output_type": "stream",
     "text": [
      "313/313 [==============================] - 0s 522us/step\n",
      "[8.1303562e-14 2.3440435e-19 1.7631758e-14 5.3684364e-26 3.8579611e-17\n",
      " 9.2915240e-09 3.0429140e-16 1.9050633e-04 9.2251658e-12 9.9980956e-01]\n",
      "9\n"
     ]
    }
   ],
   "source": [
    "classifications = model.predict(test_images)\n",
    "\n",
    "print(classifications[0])\n",
    "print(test_labels[0])"
   ]
  }
 ],
 "metadata": {
  "kernelspec": {
   "display_name": "Python 3",
   "language": "python",
   "name": "python3"
  },
  "language_info": {
   "codemirror_mode": {
    "name": "ipython",
    "version": 3
   },
   "file_extension": ".py",
   "mimetype": "text/x-python",
   "name": "python",
   "nbconvert_exporter": "python",
   "pygments_lexer": "ipython3",
   "version": "3.10.9"
  },
  "orig_nbformat": 4
 },
 "nbformat": 4,
 "nbformat_minor": 2
}
