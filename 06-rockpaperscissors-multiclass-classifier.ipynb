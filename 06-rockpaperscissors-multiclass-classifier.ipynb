{
 "cells": [
  {
   "cell_type": "markdown",
   "metadata": {},
   "source": [
    "# Multiclass Classification\n",
    "\n",
    "Multiclass Classification refers to a method of classifying data into three or more classes.\n",
    "\n",
    "In this example, the model classifies the images into paper, rock, or scissors using a dataset of images of hands showing the corresponding gesture.\n",
    "\n",
    "Multiclass Classification can be achieved by:\n",
    "- using `training_datagen.flow_from_directory` with `class_mode='categorical'` for the training data\n",
    "- using `validation_datagen.flow_from_directory` with `class_mode='categorical'` for the validation data\n",
    "- using `model.compile` with `rmsprop` optimizer and `categorical_crossentropy` loss function\n"
   ]
  },
  {
   "cell_type": "code",
   "execution_count": 8,
   "metadata": {},
   "outputs": [],
   "source": [
    "from tensorflow import keras\n",
    "\n",
    "from keras import Sequential\n",
    "from keras.layers import Dense, Flatten, Conv2D, MaxPooling2D\n",
    "\n",
    "from keras.preprocessing.image import ImageDataGenerator"
   ]
  },
  {
   "cell_type": "code",
   "execution_count": 9,
   "metadata": {},
   "outputs": [],
   "source": [
    "training_dir = 'data/rock-paper-scissors/training'\n",
    "validation_dir = 'data/rock-paper-scissors/validation'\n",
    "rps_zip_file = 'rock-paper-scissors.zip'\n",
    "rps_validation_zip_file = 'validation-rock-paper-scissors.zip'"
   ]
  },
  {
   "cell_type": "code",
   "execution_count": 4,
   "metadata": {},
   "outputs": [
    {
     "data": {
      "text/plain": [
       "('validation-rock-paper-scissors.zip',\n",
       " <http.client.HTTPMessage at 0x7fcc495df1f0>)"
      ]
     },
     "execution_count": 4,
     "metadata": {},
     "output_type": "execute_result"
    }
   ],
   "source": [
    "# Download the files\n",
    "import urllib.request\n",
    "\n",
    "rps_url = 'https://storage.googleapis.com/learning-datasets/rps.zip'\n",
    "rps_validation_url = 'https://storage.googleapis.com/learning-datasets/rps-test-set.zip'\n",
    "\n",
    "urllib.request.urlretrieve(rps_url, rps_zip_file)\n",
    "urllib.request.urlretrieve(rps_validation_url, rps_validation_zip_file)"
   ]
  },
  {
   "cell_type": "code",
   "execution_count": 5,
   "metadata": {},
   "outputs": [],
   "source": [
    "# Extract the datasets\n",
    "\n",
    "import zipfile\n",
    "\n",
    "zip_ref = zipfile.ZipFile(rps_zip_file, 'r')\n",
    "zip_ref.extractall(training_dir)\n",
    "zip_ref.close()\n",
    "\n",
    "zip_ref = zipfile.ZipFile(rps_validation_zip_file, 'r')\n",
    "zip_ref.extractall(validation_dir)\n",
    "zip_ref.close()"
   ]
  },
  {
   "cell_type": "code",
   "execution_count": 10,
   "metadata": {},
   "outputs": [
    {
     "name": "stdout",
     "output_type": "stream",
     "text": [
      "Found 2520 images belonging to 3 classes.\n"
     ]
    }
   ],
   "source": [
    "# Training data generator\n",
    "training_datagen = ImageDataGenerator(\n",
    "  rescale = 1./255,\n",
    "  rotation_range = 40,\n",
    "  width_shift_range = 0.2,\n",
    "  height_shift_range = 0.2,\n",
    "  shear_range = 0.2,\n",
    "  zoom_range = 0.2,\n",
    "  horizontal_flip = True,\n",
    "  fill_mode = 'nearest'\n",
    ")\n",
    "\n",
    "train_generator = training_datagen.flow_from_directory(\n",
    "  training_dir,\n",
    "  target_size = (150, 150),\n",
    "  class_mode = 'categorical',\n",
    "  batch_size = 128\n",
    ")"
   ]
  },
  {
   "cell_type": "code",
   "execution_count": 11,
   "metadata": {},
   "outputs": [
    {
     "name": "stdout",
     "output_type": "stream",
     "text": [
      "Found 372 images belonging to 3 classes.\n"
     ]
    }
   ],
   "source": [
    "# Validation data generator\n",
    "validation_datagen = ImageDataGenerator(\n",
    "  rescale = 1./255,\n",
    "  rotation_range = 40,\n",
    "  width_shift_range = 0.2,\n",
    "  height_shift_range = 0.2,\n",
    "  shear_range = 0.2,\n",
    "  zoom_range = 0.2,\n",
    "  horizontal_flip = True,\n",
    "  fill_mode = 'nearest'\n",
    ")\n",
    "\n",
    "validation_generator = validation_datagen.flow_from_directory(\n",
    "  validation_dir,\n",
    "  target_size=(150, 150),\n",
    "  batch_size=128,\n",
    "  class_mode='categorical'\n",
    ")"
   ]
  },
  {
   "cell_type": "code",
   "execution_count": 12,
   "metadata": {},
   "outputs": [
    {
     "name": "stderr",
     "output_type": "stream",
     "text": [
      "2024-08-22 15:10:37.313319: I tensorflow/core/platform/cpu_feature_guard.cc:193] This TensorFlow binary is optimized with oneAPI Deep Neural Network Library (oneDNN) to use the following CPU instructions in performance-critical operations:  SSE4.1 SSE4.2\n",
      "To enable them in other operations, rebuild TensorFlow with the appropriate compiler flags.\n"
     ]
    },
    {
     "name": "stdout",
     "output_type": "stream",
     "text": [
      "Epoch 1/25\n",
      "20/20 [==============================] - 68s 3s/step - loss: 1.4170 - accuracy: 0.3448 - val_loss: 1.0866 - val_accuracy: 0.3978\n",
      "Epoch 2/25\n",
      "20/20 [==============================] - 62s 3s/step - loss: 1.1076 - accuracy: 0.4218 - val_loss: 1.1253 - val_accuracy: 0.3333\n",
      "Epoch 3/25\n",
      "20/20 [==============================] - 65s 3s/step - loss: 1.1219 - accuracy: 0.3857 - val_loss: 1.0975 - val_accuracy: 0.3333\n",
      "Epoch 4/25\n",
      "20/20 [==============================] - 66s 3s/step - loss: 1.0519 - accuracy: 0.5167 - val_loss: 0.9446 - val_accuracy: 0.6532\n",
      "Epoch 5/25\n",
      "20/20 [==============================] - 62s 3s/step - loss: 0.8628 - accuracy: 0.6222 - val_loss: 0.7399 - val_accuracy: 0.6962\n",
      "Epoch 6/25\n",
      "20/20 [==============================] - 70s 3s/step - loss: 0.6494 - accuracy: 0.7036 - val_loss: 0.5380 - val_accuracy: 0.7796\n",
      "Epoch 7/25\n",
      "20/20 [==============================] - 78s 4s/step - loss: 0.7083 - accuracy: 0.7452 - val_loss: 0.5120 - val_accuracy: 0.7903\n",
      "Epoch 8/25\n",
      "20/20 [==============================] - 74s 4s/step - loss: 0.4707 - accuracy: 0.8032 - val_loss: 0.4569 - val_accuracy: 0.8199\n",
      "Epoch 9/25\n",
      "20/20 [==============================] - 74s 4s/step - loss: 0.4457 - accuracy: 0.8079 - val_loss: 0.3642 - val_accuracy: 0.8763\n",
      "Epoch 10/25\n",
      "20/20 [==============================] - 76s 4s/step - loss: 0.3566 - accuracy: 0.8619 - val_loss: 0.2223 - val_accuracy: 0.9140\n",
      "Epoch 11/25\n",
      "20/20 [==============================] - 77s 4s/step - loss: 0.2753 - accuracy: 0.8889 - val_loss: 0.3638 - val_accuracy: 0.8656\n",
      "Epoch 12/25\n",
      "20/20 [==============================] - 78s 4s/step - loss: 0.2192 - accuracy: 0.9159 - val_loss: 0.1681 - val_accuracy: 0.9516\n",
      "Epoch 13/25\n",
      "20/20 [==============================] - 70s 3s/step - loss: 0.1991 - accuracy: 0.9266 - val_loss: 0.4126 - val_accuracy: 0.8710\n",
      "Epoch 14/25\n",
      "20/20 [==============================] - 65s 3s/step - loss: 0.1831 - accuracy: 0.9325 - val_loss: 0.6912 - val_accuracy: 0.6989\n",
      "Epoch 15/25\n",
      "20/20 [==============================] - 65s 3s/step - loss: 0.1802 - accuracy: 0.9377 - val_loss: 0.2412 - val_accuracy: 0.9220\n",
      "Epoch 16/25\n",
      "20/20 [==============================] - 66s 3s/step - loss: 0.1513 - accuracy: 0.9401 - val_loss: 0.2285 - val_accuracy: 0.9167\n",
      "Epoch 17/25\n",
      "20/20 [==============================] - 66s 3s/step - loss: 0.1580 - accuracy: 0.9397 - val_loss: 0.1308 - val_accuracy: 0.9462\n",
      "Epoch 18/25\n",
      "20/20 [==============================] - 71s 4s/step - loss: 0.1172 - accuracy: 0.9651 - val_loss: 0.1969 - val_accuracy: 0.9355\n",
      "Epoch 19/25\n",
      "20/20 [==============================] - 70s 3s/step - loss: 0.1020 - accuracy: 0.9607 - val_loss: 0.1149 - val_accuracy: 0.9677\n",
      "Epoch 20/25\n",
      "20/20 [==============================] - 68s 3s/step - loss: 0.1322 - accuracy: 0.9512 - val_loss: 0.1357 - val_accuracy: 0.9570\n",
      "Epoch 21/25\n",
      "20/20 [==============================] - 70s 3s/step - loss: 0.0714 - accuracy: 0.9726 - val_loss: 0.1489 - val_accuracy: 0.9409\n",
      "Epoch 22/25\n",
      "20/20 [==============================] - 70s 3s/step - loss: 0.2013 - accuracy: 0.9282 - val_loss: 0.1430 - val_accuracy: 0.9355\n",
      "Epoch 23/25\n",
      "20/20 [==============================] - 69s 3s/step - loss: 0.0609 - accuracy: 0.9802 - val_loss: 0.2648 - val_accuracy: 0.9005\n",
      "Epoch 24/25\n",
      "20/20 [==============================] - 68s 3s/step - loss: 0.1001 - accuracy: 0.9639 - val_loss: 0.2646 - val_accuracy: 0.8844\n",
      "Epoch 25/25\n",
      "20/20 [==============================] - 67s 3s/step - loss: 0.0740 - accuracy: 0.9738 - val_loss: 0.1511 - val_accuracy: 0.9462\n"
     ]
    }
   ],
   "source": [
    "# Create the model\n",
    "model = keras.models.Sequential([\n",
    "  keras.layers.Conv2D(64, (3,3), activation='relu', input_shape=(150, 150, 3)),\n",
    "  keras.layers.MaxPooling2D(2, 2),\n",
    "  keras.layers.Conv2D(64, (3,3), activation='relu'),\n",
    "  keras.layers.MaxPooling2D(2, 2),\n",
    "  keras.layers.Conv2D(128, (3,3), activation='relu'),\n",
    "  keras.layers.MaxPooling2D(2, 2),\n",
    "  keras.layers.Conv2D(128, (3,3), activation='relu'),\n",
    "  keras.layers.MaxPooling2D(2, 2),\n",
    "  keras.layers.Flatten(),\n",
    "  keras.layers.Dropout(0.5),\n",
    "  keras.layers.Dense(512, activation='relu'),\n",
    "  keras.layers.Dense(3, activation='softmax')\n",
    "])\n",
    "\n",
    "model.compile(\n",
    "  optimizer='rmsprop',\n",
    "  loss='categorical_crossentropy',\n",
    "  metrics=['accuracy']\n",
    ")\n",
    "\n",
    "history = model.fit(\n",
    "  train_generator,\n",
    "  epochs=25,\n",
    "  validation_data=validation_generator,\n",
    "  verbose=1\n",
    ")"
   ]
  },
  {
   "cell_type": "code",
   "execution_count": 1,
   "metadata": {},
   "outputs": [
    {
     "ename": "NameError",
     "evalue": "name 'history' is not defined",
     "output_type": "error",
     "traceback": [
      "\u001b[0;31m---------------------------------------------------------------------------\u001b[0m",
      "\u001b[0;31mNameError\u001b[0m                                 Traceback (most recent call last)",
      "Cell \u001b[0;32mIn[1], line 3\u001b[0m\n\u001b[1;32m      1\u001b[0m \u001b[38;5;28;01mimport\u001b[39;00m \u001b[38;5;21;01mmatplotlib\u001b[39;00m\u001b[38;5;21;01m.\u001b[39;00m\u001b[38;5;21;01mpyplot\u001b[39;00m \u001b[38;5;28;01mas\u001b[39;00m \u001b[38;5;21;01mplt\u001b[39;00m\n\u001b[0;32m----> 3\u001b[0m acc \u001b[38;5;241m=\u001b[39m \u001b[43mhistory\u001b[49m\u001b[38;5;241m.\u001b[39mhistory[\u001b[38;5;124m'\u001b[39m\u001b[38;5;124maccuracy\u001b[39m\u001b[38;5;124m'\u001b[39m]\n\u001b[1;32m      4\u001b[0m loss \u001b[38;5;241m=\u001b[39m history\u001b[38;5;241m.\u001b[39mhistory[\u001b[38;5;124m'\u001b[39m\u001b[38;5;124mloss\u001b[39m\u001b[38;5;124m'\u001b[39m]\n\u001b[1;32m      6\u001b[0m epochs \u001b[38;5;241m=\u001b[39m \u001b[38;5;28mrange\u001b[39m(\u001b[38;5;28mlen\u001b[39m(acc))\n",
      "\u001b[0;31mNameError\u001b[0m: name 'history' is not defined"
     ]
    }
   ],
   "source": [
    "import matplotlib.pyplot as plt\n",
    "\n",
    "acc = history.history['accuracy']\n",
    "loss = history.history['loss']\n",
    "\n",
    "epochs = range(len(acc))\n",
    "\n",
    "plt.plot(epochs, acc, 'r', label='Training accuracy')\n",
    "plt.title('Training accuracy')\n",
    "\n",
    "plt.figure()\n",
    "\n",
    "plt.plot(epochs, loss, 'r', label='Training Loss')\n",
    "plt.title('Training loss')\n",
    "plt.legend()\n",
    "\n",
    "plt.show()\n"
   ]
  }
 ],
 "metadata": {
  "kernelspec": {
   "display_name": "Python 3",
   "language": "python",
   "name": "python3"
  },
  "language_info": {
   "codemirror_mode": {
    "name": "ipython",
    "version": 3
   },
   "file_extension": ".py",
   "mimetype": "text/x-python",
   "name": "python",
   "nbconvert_exporter": "python",
   "pygments_lexer": "ipython3",
   "version": "3.10.9"
  }
 },
 "nbformat": 4,
 "nbformat_minor": 2
}
